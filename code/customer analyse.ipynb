{
  "nbformat": 4,
  "nbformat_minor": 0,
  "metadata": {
    "colab": {
      "name": "Copy of Load and clean data.ipynb",
      "provenance": [],
      "collapsed_sections": [],
      "toc_visible": true
    },
    "kernelspec": {
      "name": "python3",
      "display_name": "Python 3"
    },
    "language_info": {
      "name": "python"
    }
  },
  "cells": [
    {
      "cell_type": "markdown",
      "metadata": {
        "id": "CvcPMlGkfbtv"
      },
      "source": [
        "# Import libraries"
      ]
    },
    {
      "cell_type": "code",
      "metadata": {
        "id": "wmAGRkSV3FWz",
        "colab": {
          "base_uri": "https://localhost:8080/"
        },
        "outputId": "6dfa314a-94ea-4ac1-97b2-542617265d07"
      },
      "source": [
        "#Importing the Libraries\n",
        "import numpy as np\n",
        "import pandas as pd\n",
        "import datetime\n",
        "import matplotlib\n",
        "import matplotlib.pyplot as plt\n",
        "from matplotlib import colors\n",
        "import seaborn as sns\n",
        "from sklearn.preprocessing import LabelEncoder\n",
        "from sklearn.preprocessing import StandardScaler\n",
        "from sklearn.decomposition import PCA\n",
        "from yellowbrick.cluster import KElbowVisualizer\n",
        "from sklearn.cluster import KMeans\n",
        "import matplotlib.pyplot as plt, numpy as np\n",
        "from mpl_toolkits.mplot3d import Axes3D\n",
        "from sklearn.cluster import AgglomerativeClustering\n",
        "from matplotlib.colors import ListedColormap\n",
        "from sklearn import metrics\n",
        "import warnings\n",
        "import sys\n",
        "if not sys.warnoptions:\n",
        "    warnings.simplefilter(\"ignore\")\n",
        "np.random.seed(42)"
      ],
      "execution_count": null,
      "outputs": [
        {
          "output_type": "stream",
          "name": "stderr",
          "text": [
            "/usr/local/lib/python3.7/dist-packages/sklearn/utils/deprecation.py:144: FutureWarning: The sklearn.metrics.classification module is  deprecated in version 0.22 and will be removed in version 0.24. The corresponding classes / functions should instead be imported from sklearn.metrics. Anything that cannot be imported from sklearn.metrics is now part of the private API.\n",
            "  warnings.warn(message, FutureWarning)\n"
          ]
        }
      ]
    },
    {
      "cell_type": "markdown",
      "metadata": {
        "id": "hzU2h1A9t9x6"
      },
      "source": [
        "#Load data \n",
        "Tên data: customer-segmentation.csv \\\n",
        "Gồm : 2240 hàng × 29 cột\n",
        "\n"
      ]
    },
    {
      "cell_type": "markdown",
      "metadata": {
        "id": "w2fASPQmv3iE"
      },
      "source": [
        "**People**\n",
        "\n",
        "ID: Customer's unique identifier \\\n",
        "Year_Birth: Customer's birth year \\\n",
        "Education: Customer's education level \\\n",
        "Marital_Status: Customer's marital status \\\n",
        "Income: Customer's yearly household income \\\n",
        "Kidhome: Number of children in customer's household \\\n",
        "Teenhome: Number of teenagers in customer's household \\\n",
        "Dt_Customer: Date of customer's enrollment with the company \\\n",
        "Recency: Number of days since customer's last purchase \\\n",
        "Complain: 1 if customer complained in the last 2 years, 0 otherwise \\\n",
        "\n",
        "**Products**\n",
        "\n",
        "MntWines: Amount spent on wine in last 2 years \\\n",
        "MntFruits: Amount spent on fruits in last 2 years \\\n",
        "MntMeatProducts: Amount spent on meat in last 2 years \\\n",
        "MntFishProducts: Amount spent on fish in last 2 years \\\n",
        "MntSweetProducts: Amount spent on sweets in last 2 years \\\n",
        "MntGoldProds: Amount spent on gold in last 2 years \\\n",
        "\n",
        "**Promotion**\n",
        "\n",
        "NumDealsPurchases: Number of purchases made with a discount \\\n",
        "AcceptedCmp1: 1 if customer accepted the offer in the 1st campaign, 0 otherwise \\\n",
        "AcceptedCmp2: 1 if customer accepted the offer in the 2nd campaign, 0 otherwise \\\n",
        "AcceptedCmp3: 1 if customer accepted the offer in the 3rd campaign, 0 otherwise \\\n",
        "AcceptedCmp4: 1 if customer accepted the offer in the 4th campaign, 0 otherwise \\\n",
        "AcceptedCmp5: 1 if customer accepted the offer in the 5th campaign, 0 otherwise \\\n",
        "Response: 1 if customer accepted the offer in the last campaign, 0 otherwise \\\n",
        "\n",
        "**Place**\n",
        "\n",
        "NumWebPurchases: Number of purchases made through the company’s web site \\\n",
        "NumCatalogPurchases: Number of purchases made using a catalogue \\\n",
        "NumStorePurchases: Number of purchases made directly in stores \\\n",
        "NumWebVisitsMonth: Number of visits to company’s web site in the last month"
      ]
    },
    {
      "cell_type": "code",
      "metadata": {
        "id": "--bYsLDStT9_"
      },
      "source": [
        "data= pd.read_csv(\"customer-segmentation.csv\",sep=\"\\t\")\n",
        "data.head()"
      ],
      "execution_count": null,
      "outputs": []
    },
    {
      "cell_type": "code",
      "metadata": {
        "id": "A2c9KorUtfOC"
      },
      "source": [
        "data.shape"
      ],
      "execution_count": null,
      "outputs": []
    },
    {
      "cell_type": "markdown",
      "metadata": {
        "id": "J02Beu9lvwIz"
      },
      "source": [
        "#Data Cleaning"
      ]
    },
    {
      "cell_type": "code",
      "metadata": {
        "id": "wc0sXRJOu47o"
      },
      "source": [
        "#Information on features \n",
        "data.info()"
      ],
      "execution_count": null,
      "outputs": []
    },
    {
      "cell_type": "markdown",
      "metadata": {
        "id": "av0L-RARwbUV"
      },
      "source": [
        "Từ kết quả trên, chúng ta có thể kết luận và lưu ý rằng:\n",
        "\n",
        "Có những giá trị bị thiếu trong thu nhập \\\n",
        "Dt_Customer cho biết ngày khách hàng tham gia nhưng không được phân tích cú pháp thành DateTime \\\n",
        "Có một số feature phân loại trong khung dữ liệu; vì có một số tính năng trong dtype: object) \\\n",
        "=>  Vì vậy, chúng ta sẽ cần phải mã hóa chúng thành dạng số.\n"
      ]
    },
    {
      "cell_type": "markdown",
      "metadata": {
        "id": "xHd6ipC0w-d7"
      },
      "source": [
        "**Chúng ta tiến hành loại bỏ các hàng có dữ liệu bị thiếu**"
      ]
    },
    {
      "cell_type": "code",
      "metadata": {
        "id": "WcLi91vrv-Jy"
      },
      "source": [
        "#To remove the NA values\n",
        "data = data.dropna()\n",
        "print(\"The total number of data-points after removing the rows with missing values are:\", len(data))"
      ],
      "execution_count": null,
      "outputs": []
    },
    {
      "cell_type": "markdown",
      "metadata": {
        "id": "7M4vySrexXFG"
      },
      "source": [
        "**Đưa feature Dt_customer về dạng DateTime**"
      ]
    },
    {
      "cell_type": "code",
      "metadata": {
        "id": "e5A1pcz6xF-F"
      },
      "source": [
        "data[\"Dt_Customer\"] = pd.to_datetime(data[\"Dt_Customer\"])\n",
        "dates = []\n",
        "for i in data[\"Dt_Customer\"]:\n",
        "    i = i.date()\n",
        "    dates.append(i)  \n",
        "#Dates of the newest and oldest recorded customer\n",
        "print(\"The newest customer's enrolment date in therecords:\",max(dates))\n",
        "print(\"The oldest customer's enrolment date in the records:\",min(dates))"
      ],
      "execution_count": null,
      "outputs": []
    },
    {
      "cell_type": "markdown",
      "metadata": {
        "id": "sHHt7uIxyCGP"
      },
      "source": [
        "**Tạo một featue (\"Customer_For\") về số ngày khách hàng bắt đầu mua sắm trong cửa hàng so với ngày được ghi cuối cùng**"
      ]
    },
    {
      "cell_type": "code",
      "metadata": {
        "id": "e9LMqknOxiIr"
      },
      "source": [
        "#Created a feature \"Customer_For\"\n",
        "days = []\n",
        "d1 = max(dates) #taking it to be the newest customer\n",
        "for i in dates:\n",
        "    delta = d1 - i\n",
        "    days.append(delta)\n",
        "data[\"Customer_For\"] = days\n",
        "data[\"Customer_For\"] = pd.to_numeric(data[\"Customer_For\"], errors=\"coerce\")"
      ],
      "execution_count": null,
      "outputs": []
    },
    {
      "cell_type": "markdown",
      "metadata": {
        "id": "H4I0TsCIzL5h"
      },
      "source": [
        "**Sau đây chúng ta sẽ khám phá các Uniqe value trong các feature để có được ý tưởng rõ ràng về dữ liệu.**"
      ]
    },
    {
      "cell_type": "code",
      "metadata": {
        "id": "Fc4mIkg9ySsj"
      },
      "source": [
        "print(\"Total categories in the feature Marital_Status:\\n\", data[\"Marital_Status\"].value_counts(), \"\\n\")\n",
        "print(\"Total categories in the feature Education:\\n\", data[\"Education\"].value_counts())"
      ],
      "execution_count": null,
      "outputs": []
    },
    {
      "cell_type": "markdown",
      "metadata": {
        "id": "0bZk0FJ4zsNB"
      },
      "source": [
        "Trong phần tiếp theo, tôi sẽ thực hiện các bước sau để thiết kế một số tính năng mới:\n",
        "\n",
        "Trích xuất \"Age\" của khách hàng theo \"Year_Birth\" cho biết năm sinh của người tương ứng. \\\n",
        "Tạo một feature \"Spent\" cho biết tổng số tiền khách hàng đã chi tiêu trong các danh mục khác nhau trong khoảng thời gian hai năm. \\\n",
        "Tạo một tính năng khác \"Living_With\" ngoài \"Marital_Status\" để bóc tách hoàn cảnh sống của các cặp vợ chồng. \\\n",
        "Tạo feature \"Children\" để biểu thị tổng số trẻ em trong một hộ gia đình, đó là trẻ em và thanh thiếu niên. \\\n",
        "Để hiểu rõ hơn về hộ gia đình, hãy tạo tính năng cho biết \"Family_Size\" \\\n",
        "Tạo một tính năng \"Is_Parent\" để biểu thị trạng thái làm cha mẹ \\\n",
        "Cuối cùng, tôi sẽ tạo ba danh mục trong \"Education_\" bằng cách đơn giản hóa số lượng giá trị của nó. \\\n",
        "Bỏ một số tính năng thừa"
      ]
    },
    {
      "cell_type": "code",
      "metadata": {
        "id": "pAsz4kW3y_RN"
      },
      "source": [
        "#Feature Engineering\n",
        "#Age of customer today \n",
        "data[\"Age\"] = 2021-data[\"Year_Birth\"]\n",
        "\n",
        "#Total spendings on various items\n",
        "data[\"Spent\"] = data[\"MntWines\"]+ data[\"MntFruits\"]+ data[\"MntMeatProducts\"]+ data[\"MntFishProducts\"]+ data[\"MntSweetProducts\"]+ data[\"MntGoldProds\"]\n",
        "\n",
        "#Deriving living situation by marital status\"Alone\"\n",
        "data[\"Living_With\"]=data[\"Marital_Status\"].replace({\"Married\":\"Partner\", \"Together\":\"Partner\", \"Absurd\":\"Alone\", \"Widow\":\"Alone\", \"YOLO\":\"Alone\", \"Divorced\":\"Alone\", \"Single\":\"Alone\",})\n",
        "\n",
        "#Feature indicating total children living in the household\n",
        "data[\"Children\"]=data[\"Kidhome\"]+data[\"Teenhome\"]\n",
        "\n",
        "#Feature for total members in the householde\n",
        "data[\"Family_Size\"] = data[\"Living_With\"].replace({\"Alone\": 1, \"Partner\":2})+ data[\"Children\"]\n",
        "\n",
        "#Feature pertaining parenthood\n",
        "data[\"Is_Parent\"] = np.where(data.Children> 0, 1, 0)\n",
        "\n",
        "#Segmenting education levels in three groups\n",
        "data[\"Education\"]=data[\"Education\"].replace({\"Basic\":\"Undergraduate\",\"2n Cycle\":\"Undergraduate\", \"Graduation\":\"Graduate\", \"Master\":\"Postgraduate\", \"PhD\":\"Postgraduate\"})\n",
        "\n",
        "#For clarity\n",
        "data=data.rename(columns={\"MntWines\": \"Wines\",\"MntFruits\":\"Fruits\",\"MntMeatProducts\":\"Meat\",\"MntFishProducts\":\"Fish\",\"MntSweetProducts\":\"Sweets\",\"MntGoldProds\":\"Gold\"})\n",
        "\n",
        "#Dropping some of the redundant features\n",
        "to_drop = [\"Marital_Status\", \"Dt_Customer\", \"Z_CostContact\", \"Z_Revenue\", \"Year_Birth\", \"ID\"]\n",
        "data = data.drop(to_drop, axis=1)"
      ],
      "execution_count": null,
      "outputs": []
    },
    {
      "cell_type": "code",
      "metadata": {
        "id": "UPqpWTwl0KfO"
      },
      "source": [
        "data.describe()"
      ],
      "execution_count": null,
      "outputs": []
    },
    {
      "cell_type": "markdown",
      "metadata": {
        "id": "hLcoMh8h0use"
      },
      "source": [
        "Các số liệu thống kê trên cho thấy một số khác biệt về Thu nhập trung bình và Tuổi và Thu nhập tối đa và độ tuổi.\n",
        "\n",
        "Có một lưu ý rằng độ tuổi tối đa là 128 tuổi, Như  đã tính toán độ tuổi sẽ là ngày hôm nay (tức là năm 2021) và dữ liệu đã cũ.\n",
        "\n",
        "Vì vậy chúng ta phải xem xét tầm nhìn rộng hơn của dữ liệu."
      ]
    },
    {
      "cell_type": "markdown",
      "metadata": {
        "id": "NZkhY1l907wp"
      },
      "source": [
        "**Plot data**"
      ]
    },
    {
      "cell_type": "code",
      "metadata": {
        "id": "JuGlRb6Z0PL4"
      },
      "source": [
        "#To plot some selected features \n",
        "#Setting up colors prefrences\n",
        "sns.set(rc={\"axes.facecolor\":\"#FFF9ED\",\"figure.facecolor\":\"#FFF9ED\"})\n",
        "pallet = [\"#682F2F\", \"#9E726F\", \"#D6B2B1\", \"#B9C0C9\", \"#9F8A78\", \"#F3AB60\"]\n",
        "cmap = colors.ListedColormap([\"#682F2F\", \"#9E726F\", \"#D6B2B1\", \"#B9C0C9\", \"#9F8A78\", \"#F3AB60\"])\n",
        "#Plotting following features\n",
        "To_Plot = [ \"Income\", \"Recency\", \"Customer_For\", \"Age\", \"Spent\", \"Is_Parent\"]\n",
        "print(\"Reletive Plot Of Some Selected Features: A Data Subset\")\n",
        "plt.figure()\n",
        "sns.pairplot(data[To_Plot], hue= \"Is_Parent\",palette= ([\"#682F2F\",\"#F3AB60\"]))\n",
        "#Taking hue \n",
        "plt.show()"
      ],
      "execution_count": null,
      "outputs": []
    },
    {
      "cell_type": "markdown",
      "metadata": {
        "id": "x78T1C2VeMk8"
      },
      "source": [
        "Có một số outlier trong các feature Income và Age. \\\n",
        "=> Tôi sẽ xóa các outlier trong dữ liệu."
      ]
    },
    {
      "cell_type": "code",
      "metadata": {
        "id": "5E1NfRPpdUPr"
      },
      "source": [
        "#Dropping the outliers by setting a cap on Age and income. \n",
        "data = data[(data[\"Age\"]<90)]\n",
        "data = data[(data[\"Income\"]<600000)]\n",
        "print(\"The total number of data-points after removing the outliers are:\", len(data))"
      ],
      "execution_count": null,
      "outputs": []
    },
    {
      "cell_type": "markdown",
      "metadata": {
        "id": "UwNFEOCFe02d"
      },
      "source": [
        "**Tiếp theo, chúng ta hãy xem xét correlation giữa các features.**"
      ]
    },
    {
      "cell_type": "code",
      "metadata": {
        "id": "nfVyJqcyepyK"
      },
      "source": [
        "#correlation matrix\n",
        "corrmat= data.corr()\n",
        "mask = np.triu(np.ones_like(corrmat, dtype=bool))\n",
        "\n",
        "# Create a custom divergin palette\n",
        "\n",
        "plt.figure(figsize=(20,20))  \n",
        "sns.heatmap(corrmat,annot=True,mask=mask, cmap=cmap,fmt='.2f', center=0, square=True)"
      ],
      "execution_count": null,
      "outputs": []
    },
    {
      "cell_type": "markdown",
      "metadata": {
        "id": "19QigQlyfOpO"
      },
      "source": [
        "# Data visualisation using Autoviz"
      ]
    },
    {
      "cell_type": "markdown",
      "metadata": {
        "id": "maRO7uVQlQRE"
      },
      "source": [
        "AUTOVIZ install"
      ]
    },
    {
      "cell_type": "code",
      "metadata": {
        "id": "CF1yFHboixZN"
      },
      "source": [
        "!pip install autoviz"
      ],
      "execution_count": null,
      "outputs": []
    },
    {
      "cell_type": "code",
      "metadata": {
        "id": "xNtXMKYWlKG3"
      },
      "source": [
        "! pip install xlrd"
      ],
      "execution_count": null,
      "outputs": []
    },
    {
      "cell_type": "code",
      "metadata": {
        "id": "o9dMUMHulOvD"
      },
      "source": [
        "from autoviz.AutoViz_Class import AutoViz_Class\n",
        "AV = AutoViz_Class()\n",
        "df_av = AV.AutoViz('/content/customer-segmentation.csv',sep=\"\\t\")"
      ],
      "execution_count": null,
      "outputs": []
    },
    {
      "cell_type": "markdown",
      "metadata": {
        "id": "PR4yKpvwnF7L"
      },
      "source": [
        "# Data visualisation"
      ]
    },
    {
      "cell_type": "code",
      "metadata": {
        "id": "4Ofwv23unRbd"
      },
      "source": [
        "data['Education'].value_counts()"
      ],
      "execution_count": null,
      "outputs": []
    },
    {
      "cell_type": "code",
      "metadata": {
        "id": "CNRh--jTnsxx"
      },
      "source": [
        "sns.countplot(x = 'Education' , data = data)\n",
        "plt.show()"
      ],
      "execution_count": null,
      "outputs": []
    },
    {
      "cell_type": "markdown",
      "metadata": {
        "id": "4JEGkBwOprZx"
      },
      "source": [
        "=> Chưa tốt nghiệp chiếm số lượng thấp nhất\n"
      ]
    },
    {
      "cell_type": "code",
      "metadata": {
        "id": "hB9XcTARnwyt"
      },
      "source": [
        "data['Living_With'].value_counts()"
      ],
      "execution_count": null,
      "outputs": []
    },
    {
      "cell_type": "code",
      "metadata": {
        "id": "5JAVgJqnn0wL"
      },
      "source": [
        "sns.countplot( x = 'Living_With',data = data)\n",
        "plt.show()"
      ],
      "execution_count": null,
      "outputs": []
    },
    {
      "cell_type": "markdown",
      "metadata": {
        "id": "RMom8QwPp0C0"
      },
      "source": [
        "=> Phần đông là người đã lập gia đình"
      ]
    },
    {
      "cell_type": "code",
      "metadata": {
        "id": "gKOW2QBKoTdK"
      },
      "source": [
        "obj = ['Education','Living_With']\n",
        "for i in obj:\n",
        "    data=data.copy()\n",
        "    data.groupby(i)['Age'].mean().plot.bar()\n",
        "    plt.xlabel(i)\n",
        "    plt.ylabel('Age')\n",
        "    plt.title(i)\n",
        "    plt.show()"
      ],
      "execution_count": null,
      "outputs": []
    },
    {
      "cell_type": "code",
      "metadata": {
        "id": "MSm-jDsHof25"
      },
      "source": [
        "# I found no relations\n",
        "for i in range(len(obj)):\n",
        "    for j in range(2):\n",
        "        x = obj[i]\n",
        "        if obj[j] != x:\n",
        "            sns.barplot(x= x,y='Age',hue=obj[j],data=data)\n",
        "            plt.legend(bbox_to_anchor=(1.1, 1.05))\n",
        "            plt.show()"
      ],
      "execution_count": null,
      "outputs": []
    },
    {
      "cell_type": "code",
      "metadata": {
        "id": "LiOV1ADNoqJE"
      },
      "source": [
        "df7 = data.copy()"
      ],
      "execution_count": null,
      "outputs": []
    },
    {
      "cell_type": "code",
      "metadata": {
        "id": "o3IQJ_6BowHW"
      },
      "source": [
        "for i in range(len(obj)):\n",
        "    x='Living_With'\n",
        "    for j in range(1):\n",
        "        if obj[i] != x:\n",
        "            sns.barplot(x= x,y='Age',hue=obj[i],data=df7)\n",
        "            sns.set(rc={'figure.figsize':(11,12)})\n",
        "            plt.show()"
      ],
      "execution_count": null,
      "outputs": []
    },
    {
      "cell_type": "code",
      "metadata": {
        "id": "pPPDAsJJo0jm"
      },
      "source": [
        "for i in range(len(obj)):\n",
        "    x='Living_With'\n",
        "    for j in range(1):\n",
        "        if obj[i] != x:\n",
        "            sns.barplot(x= x,y='Income',hue=obj[i],data=df7)\n",
        "            sns.set(rc={'figure.figsize':(11,12)})\n",
        "            plt.show()"
      ],
      "execution_count": null,
      "outputs": []
    },
    {
      "cell_type": "code",
      "metadata": {
        "id": "yOXGdvYjo6y7"
      },
      "source": [
        "y = data.drop(['Education','Living_With'],axis = 1)\n",
        "for i in y.columns:\n",
        "    sns.boxplot(x = i, data = y,color = 'yellowgreen')   \n",
        "    plt.xlabel(i)\n",
        "    plt.show()"
      ],
      "execution_count": null,
      "outputs": []
    },
    {
      "cell_type": "markdown",
      "metadata": {
        "id": "To0hpCF4oZup"
      },
      "source": [
        "# Data Preprocessing\n",
        "\n",
        "Label encoding the categorical features\\\n",
        "Scaling the features using the standard scaler\\\n",
        "Creating a subset dataframe for  dimensionality reduction"
      ]
    },
    {
      "cell_type": "markdown",
      "metadata": {
        "id": "EBf9EfG_uivw"
      },
      "source": [
        "Đếm số outliers dùng phương pháp IQR method"
      ]
    },
    {
      "cell_type": "code",
      "metadata": {
        "id": "j3Pj4TCapMln"
      },
      "source": [
        "def count_outliers(data,col):\n",
        "        q1 = data[col].quantile(0.25,interpolation='nearest')\n",
        "        q2 = data[col].quantile(0.5,interpolation='nearest')\n",
        "        q3 = data[col].quantile(0.75,interpolation='nearest')\n",
        "        q4 = data[col].quantile(1,interpolation='nearest')\n",
        "        IQR = q3 -q1\n",
        "        global LLP\n",
        "        global ULP\n",
        "        LLP = q1 - 1.5*IQR\n",
        "        ULP = q3 + 1.5*IQR\n",
        "        if data[col].min() > LLP and data[col].max() < ULP:\n",
        "            print(\"No outliers in\",i)\n",
        "        else:\n",
        "            print(\"There are outliers in\",i)\n",
        "            x = data[data[col]<LLP][col].size\n",
        "            y = data[data[col]>ULP][col].size\n",
        "            a.append(i)\n",
        "            print('Count of outliers are:',x+y)\n",
        "global a\n",
        "a = []\n",
        "for i in y.columns:\n",
        "    count_outliers(df,i)"
      ],
      "execution_count": null,
      "outputs": []
    },
    {
      "cell_type": "code",
      "metadata": {
        "id": "odPRNEwDodJW"
      },
      "source": [
        "#Get list of categorical variables \n",
        "s = (data.dtypes == 'object')\n",
        "object_cols = list(s[s].index)\n",
        "\n",
        "print(\"Categorical variables in the dataset:\", object_cols)\n"
      ],
      "execution_count": null,
      "outputs": []
    },
    {
      "cell_type": "markdown",
      "metadata": {
        "id": "TgerIv5w3o11"
      },
      "source": [
        ""
      ]
    },
    {
      "cell_type": "markdown",
      "metadata": {
        "id": "056bSTixsGMV"
      },
      "source": [
        "Gán mỗi giá trị của đăng trưng dạng nhóm thành một số"
      ]
    },
    {
      "cell_type": "code",
      "metadata": {
        "id": "Pp87MxbHpYFf"
      },
      "source": [
        "#Label Encoding the object dtypes.\n",
        "LE=LabelEncoder()\n",
        "for i in object_cols:\n",
        "    data[i]=data[[i]].apply(LE.fit_transform)\n",
        "    \n",
        "print(\"All features are now numerical\")"
      ],
      "execution_count": null,
      "outputs": []
    },
    {
      "cell_type": "markdown",
      "metadata": {
        "id": "V6OZ4JShtHCX"
      },
      "source": [
        "Chuẩn hóa các đặc trưng của dữ liệu"
      ]
    },
    {
      "cell_type": "code",
      "metadata": {
        "id": "AuGlaaYBsUoe"
      },
      "source": [
        "#Creating a copy of data\n",
        "ds = data.copy()\n",
        "# creating a subset of dataframe by dropping the features on deals accepted and promotions\n",
        "cols_del = ['AcceptedCmp3', 'AcceptedCmp4', 'AcceptedCmp5', 'AcceptedCmp1','AcceptedCmp2', 'Complain', 'Response']\n",
        "ds = ds.drop(cols_del, axis=1)\n",
        "#Scaling\n",
        "scaler = StandardScaler()\n",
        "scaler.fit(ds)\n",
        "scaled_ds = pd.DataFrame(scaler.transform(ds),columns= ds.columns )\n",
        "print(\"All features are now scaled\")"
      ],
      "execution_count": null,
      "outputs": []
    },
    {
      "cell_type": "code",
      "metadata": {
        "id": "zZugLD9XxOPl"
      },
      "source": [
        "#Scaled data to be used for reducing the dimensionality\n",
        "print(\"Dataframe to be used for further modelling:\")\n",
        "scaled_ds.head()"
      ],
      "execution_count": null,
      "outputs": []
    },
    {
      "cell_type": "markdown",
      "metadata": {
        "id": "BRTUqEIC2p5H"
      },
      "source": [
        "Dimentionality Reduction"
      ]
    },
    {
      "cell_type": "markdown",
      "metadata": {
        "id": "uwx3YgIY0s2b"
      },
      "source": [
        "Trong bài toán này có nhiều yếu tố trên cơ sở đó sẽ thực hiện phân loại cuối cùng. Các yếu tố này về cơ bản là thuộc tính hoặc tính năng. Số lượng tính năng càng cao thì càng khó làm việc với nó. Nhiều tính năng trong số này có tương quan và do đó dư thừa. Đây là lý do tại sao tôi sẽ thực hiện giảm kích thước trên các tính năng đã chọn trước khi đưa chúng qua bộ phân loại.\\\n",
        "Giảm thứ nguyên là quá trình giảm số lượng các biến ngẫu nhiên đang được xem xét, bằng cách thu được một tập hợp các biến chính.\n",
        "\n",
        "Phân tích thành phần chính (PCA) là một kỹ thuật để giảm kích thước của các tập dữ liệu đó, tăng khả năng diễn giải nhưng đồng thời giảm thiểu mất mát thông tin.\n",
        "\n",
        "Các bước trong phần này:\n",
        "\n",
        "Giảm kích thước với PCA\\\n",
        "Vẽ khung dữ liệu đã giảm\\\n",
        "Giảm kích thước với PCA\n",
        "\n",
        "Ở đây giảm kích thước xuống còn 3."
      ]
    },
    {
      "cell_type": "markdown",
      "metadata": {
        "id": "qoO9DceRSIA1"
      },
      "source": [
        ""
      ]
    },
    {
      "cell_type": "code",
      "metadata": {
        "id": "qSuB8qyw2nq2"
      },
      "source": [
        "df1 = df.groupby('Age').agg({ 'Education' : 'count', 'Marital_Status' : 'count', 'Income':'mean', 'Kidhome' : 'count',\n",
        "       'Teenhome' : 'count',  'Recency':'mean', \n",
        "        'NumDealsPurchases' : 'mean', 'NumWebPurchases' : 'mean',\n",
        "       'NumCatalogPurchases' : 'mean', 'NumStorePurchases' : 'mean', 'NumWebVisitsMonth' : 'mean',\n",
        "        'Complain' : 'sum', 'Response' : 'sum', 'Spent' : 'mean'})\n",
        "df1\n"
      ],
      "execution_count": null,
      "outputs": []
    },
    {
      "cell_type": "code",
      "metadata": {
        "id": "v6jyagJ2RHUW"
      },
      "source": [
        "# gropubu analysis using education\n",
        "df2 = df.groupby('Education').agg({ 'Age' : 'mean', 'Education' : 'count', 'Marital_Status' : 'sum', 'Income':'mean', 'Kidhome' : 'count',\n",
        "       'Teenhome' : 'count',  'Recency':'mean', \n",
        "        'NumDealsPurchases' : 'mean', 'NumWebPurchases' : 'mean',\n",
        "       'NumCatalogPurchases' : 'mean', 'NumStorePurchases' : 'mean', 'NumWebVisitsMonth' : 'mean',\n",
        "        'Complain' : 'sum', 'Response' : 'sum', 'Spent' : 'mean'})\n",
        "df2\n",
        "#2n Cycle       0\n",
        "#Basic          1\n",
        "#Graduation     2\n",
        "#Master         3\n",
        "#PhD            4\n",
        "\n"
      ],
      "execution_count": null,
      "outputs": []
    },
    {
      "cell_type": "markdown",
      "metadata": {
        "id": "SvQAVYadRUyn"
      },
      "source": [
        "\n",
        "Đa số những người có bằng cử nhân có mức chi tiêu trung bình cao \\\n",
        "Những người bình thường thì có mức thu nhập thấp nên mức chi tiêu của họ cũng tương đối thấp trong nhóm\\\n",
        "Những người có bằng tiến sĩ chiếm thứ 2 trong nhóm nhưng có mức thu nhập và chi tiêu nhiều hơn hẳn so với còn lại\\\n",
        "Có thể thấy càng có thu nhập cao thì mức chi tiêu càng lớn."
      ]
    },
    {
      "cell_type": "code",
      "metadata": {
        "id": "fvtcJV0rRuyT"
      },
      "source": [
        "px.bar(data_frame=df2.drop(['Income','Marital_Status'],axis = 1), barmode='group',\n",
        "       title = \"<b>Education wise Analyzing</b>\",template=\"plotly_dark\")\n",
        "# droping income,marital status  since they have lagrge value\n"
      ],
      "execution_count": null,
      "outputs": []
    },
    {
      "cell_type": "markdown",
      "metadata": {
        "id": "27jIdU9uVOOE"
      },
      "source": [
        "Có thể thấy người có bằng tiến sĩ chi tiêu vượt trội hơn hẳn trong 2 năm gần đây.\\\n",
        "Nhưng người có bằng cử nhân là chi tiêu nhiều nhất do có số lượng nhiều hơn."
      ]
    },
    {
      "cell_type": "code",
      "metadata": {
        "id": "EYdfmAHcR99q"
      },
      "source": [
        "px.bar(data_frame=df2[['Income','Marital_Status']], barmode='group',\n",
        "       title = \"<b>Education wise Analyzing</b>\",template=\"plotly_dark\")\n"
      ],
      "execution_count": null,
      "outputs": []
    },
    {
      "cell_type": "code",
      "metadata": {
        "id": "gAwH_MwHWUwP"
      },
      "source": [
        "Thu nhập của người có bằng tiến sĩ nhiều hơn trong nhóm"
      ],
      "execution_count": null,
      "outputs": []
    },
    {
      "cell_type": "code",
      "metadata": {
        "id": "2WTSgytISAYP"
      },
      "source": [
        "df3 = df.groupby('Marital_Status').agg({ 'Age' : 'mean', 'Education' : 'count', 'Marital_Status' : 'sum', 'Income':'mean', 'Kidhome' : 'count',\n",
        "       'Teenhome' : 'count',  'Recency':'mean', \n",
        "        'NumDealsPurchases' : 'mean', 'NumWebPurchases' : 'mean',\n",
        "       'NumCatalogPurchases' : 'mean', 'NumStorePurchases' : 'mean', 'NumWebVisitsMonth' : 'mean',\n",
        "        'Complain' : 'sum', 'Response' : 'sum', 'Spent' : 'mean'})\n",
        "df3\n",
        "\n",
        "#Married       3\n",
        "#Together      5\n",
        "#Single        4\n",
        "#Divorced      2\n",
        "#Widow         6\n",
        "#Alone         1\n",
        "#YOLO          7\n",
        "#Absurd        0"
      ],
      "execution_count": null,
      "outputs": []
    },
    {
      "cell_type": "markdown",
      "metadata": {
        "id": "NQpkCzE-W-nM"
      },
      "source": [
        "Đa số những mọi người trong nhóm là đã và đang lập gia đình "
      ]
    },
    {
      "cell_type": "code",
      "metadata": {
        "id": "aY0wp25RSDKO"
      },
      "source": [
        "px.bar(data_frame=df3.drop(['Income','Marital_Status','Spent'],axis = 1), barmode='group',\n",
        "       title = \"<b>Marital status wise Analyzing</b>\",template=\"plotly_dark\")\n"
      ],
      "execution_count": null,
      "outputs": []
    },
    {
      "cell_type": "markdown",
      "metadata": {
        "id": "jReYscvMXTym"
      },
      "source": [
        "Người có gia đình có trẻ đang đi học chiếm tỉ lệ lớn"
      ]
    },
    {
      "cell_type": "code",
      "metadata": {
        "id": "iNPubUyRSFev"
      },
      "source": [
        "px.bar(data_frame=df3[['Income','Spent']], barmode='group',\n",
        "       title = \"<b>Marital_Status wise Analyzing</b>\",template=\"plotly_dark\")\n"
      ],
      "execution_count": null,
      "outputs": []
    },
    {
      "cell_type": "markdown",
      "metadata": {
        "id": "tisYqXAsYLcS"
      },
      "source": [
        "\n",
        "Thu nhập trung bình của góa phụ thường nhiều và nhiều nhất là những người absurd\\\n",
        "Chi tiêu của những người absurd cũng nhiều nhất.\n"
      ]
    },
    {
      "cell_type": "code",
      "metadata": {
        "id": "zvcaMLRqY7QH"
      },
      "source": [
        ""
      ],
      "execution_count": null,
      "outputs": []
    }
  ]
}